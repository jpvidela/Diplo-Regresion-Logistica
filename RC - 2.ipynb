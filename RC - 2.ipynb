{
 "cells": [
  {
   "cell_type": "code",
   "execution_count": 1,
   "id": "a6c9f6d0-0bd0-43a8-b1a1-a5d6d2f2d8bc",
   "metadata": {},
   "outputs": [],
   "source": [
    "from sklearn.metrics import log_loss\n",
    "import numpy as np"
   ]
  },
  {
   "cell_type": "markdown",
   "id": "e7e4c097-c854-4746-9102-b5376d6c816e",
   "metadata": {},
   "source": [
    "#### Pregunta 8"
   ]
  },
  {
   "cell_type": "code",
   "execution_count": 2,
   "id": "fb90251f-2529-48ca-9a98-46ad72abbecc",
   "metadata": {},
   "outputs": [],
   "source": [
    "h1 = 2.9557335 + 0.5 * -3.706423 + 1 * -3.6671724"
   ]
  },
  {
   "cell_type": "code",
   "execution_count": 3,
   "id": "3aa413db-ed90-48c5-9ad5-1b7e9cc6af7e",
   "metadata": {},
   "outputs": [],
   "source": [
    "out = 1/(1+np.exp(-h1))"
   ]
  },
  {
   "cell_type": "code",
   "execution_count": 4,
   "id": "ff3bdf9d-001e-428d-83c2-6cab325cafce",
   "metadata": {},
   "outputs": [
    {
     "data": {
      "text/plain": [
       "0.07144840278053265"
      ]
     },
     "execution_count": 4,
     "metadata": {},
     "output_type": "execute_result"
    }
   ],
   "source": [
    "out"
   ]
  },
  {
   "cell_type": "markdown",
   "id": "c64adb56-49ca-4533-ab6e-b157f8b04460",
   "metadata": {},
   "source": [
    "#### Pregunta 9"
   ]
  },
  {
   "cell_type": "code",
   "execution_count": 5,
   "id": "cca9a34d-d6c0-4044-8827-df608244aaf0",
   "metadata": {},
   "outputs": [
    {
     "name": "stdout",
     "output_type": "stream",
     "text": [
      "2.6387797292223563\n",
      "0.07412932922235609\n"
     ]
    }
   ],
   "source": [
    "# Suponiendo que clasifica bien\n",
    "print(log_loss([True],[out],labels=[True,False]))\n",
    "\n",
    "# Suponiendo que clasifica mal\n",
    "print(log_loss([False],[out],labels=[True,False]))"
   ]
  },
  {
   "cell_type": "markdown",
   "id": "5499f619-fefb-422a-b315-8ad9499e8990",
   "metadata": {},
   "source": [
    "#### Pregunta 10"
   ]
  },
  {
   "cell_type": "code",
   "execution_count": 12,
   "id": "2acfdabf-d8be-46a4-9779-4c7b6bc43710",
   "metadata": {},
   "outputs": [],
   "source": [
    "coef_matrix = np.array([\n",
    "[ 1.2032 , 0.34239826, -0.3272417 ],\n",
    "[ 1.4500312 , 0.54530275, -0.64213556]\n",
    "])\n",
    "bias = np.array([-1.7683319, 1.8029612, -1.7188473])\n",
    "obs = np.array([0,2])"
   ]
  },
  {
   "cell_type": "code",
   "execution_count": 19,
   "id": "1eedb684-703a-4f76-809c-22d3e48191db",
   "metadata": {},
   "outputs": [],
   "source": [
    "h = coef_matrix.T @ obs + bias"
   ]
  },
  {
   "cell_type": "code",
   "execution_count": 25,
   "id": "44d8e7cb-82c2-471b-a4d8-a221efcc3b62",
   "metadata": {},
   "outputs": [
    {
     "data": {
      "text/plain": [
       "array([0.14621753, 0.85144224, 0.00234022])"
      ]
     },
     "execution_count": 25,
     "metadata": {},
     "output_type": "execute_result"
    }
   ],
   "source": [
    "# Aplico Softmax\n",
    "probs = np.exp(h)/np.exp(h).sum()\n",
    "probs"
   ]
  },
  {
   "cell_type": "markdown",
   "id": "ce77fb3a-838b-4ed1-a509-92d2bb82a61a",
   "metadata": {},
   "source": [
    "#### Cálculo de la entropía cruzada suponiendo que clasifició bien.\n",
    "\n",
    "En este caso, si se clasificó bien, significa que la clase con mayor probabilidad (clase 1, con 0.851444224) es la correcta. \n",
    "\n",
    "Y, considerando que la categorical cross entropy se define como:\n",
    "\n",
    "$$categorical\\_xent=-\\sum_{i=1}^N \\sum_{l=1}^K d_{i,l}.\\log P(y_i=l|X_i)=-\\sum_{i=1}^N \\sum_{l=1}^K d_{i,l}.\\log \\frac{\\exp(h_l)}{\\sum_{m=0}^K{\\exp(h_m)}}$$\n",
    "\n",
    "Para este caso,  $$d_{i,l} = [0,1,0] $$. Por lo que los términos correspondientes a las clases 0 y 2 serán = 0, quedando:\n",
    "\n",
    "$$categorical\\_xent=- 1 * \\log \\frac{\\exp(h_1)}{\\sum_{m=0}^K{\\exp(h_m)}} = - 1 * \\log(0.85144224)$$"
   ]
  },
  {
   "cell_type": "code",
   "execution_count": 30,
   "id": "8d790672-fdae-4a54-b00e-398b2851449c",
   "metadata": {},
   "outputs": [
    {
     "data": {
      "text/plain": [
       "0.16082361111919713"
      ]
     },
     "execution_count": 30,
     "metadata": {},
     "output_type": "execute_result"
    }
   ],
   "source": [
    "log_loss([True],[probs[1]],labels=[True,False])"
   ]
  },
  {
   "cell_type": "code",
   "execution_count": 27,
   "id": "36e07c12-af1d-4642-8388-98be498156c4",
   "metadata": {},
   "outputs": [
    {
     "data": {
      "text/plain": [
       "0.16082361111919713"
      ]
     },
     "execution_count": 27,
     "metadata": {},
     "output_type": "execute_result"
    }
   ],
   "source": [
    "-np.log(probs[1])"
   ]
  },
  {
   "cell_type": "markdown",
   "id": "585d9f33-e0ac-4866-ae92-203e43254c71",
   "metadata": {},
   "source": [
    "Si en cambio la clasificación correcta hubiera sido la primer clase (clase 0)..."
   ]
  },
  {
   "cell_type": "code",
   "execution_count": 31,
   "id": "8a7ffade-378f-4ac2-b6f1-52f3d26d0024",
   "metadata": {},
   "outputs": [
    {
     "data": {
      "text/plain": [
       "1.9226598111191973"
      ]
     },
     "execution_count": 31,
     "metadata": {},
     "output_type": "execute_result"
    }
   ],
   "source": [
    "-np.log(probs[0])"
   ]
  },
  {
   "cell_type": "markdown",
   "id": "fc5ad6fc-be2d-4710-afb8-e1e348c9f9b4",
   "metadata": {},
   "source": [
    "#### Problema 11"
   ]
  },
  {
   "cell_type": "code",
   "execution_count": 32,
   "id": "88911a34-3432-4ee8-aec6-51a9cbaf5515",
   "metadata": {},
   "outputs": [],
   "source": [
    "coefs = np.array([\n",
    "[-10.021508 , 9.780544 , -0.3323118 , 0.35372728],\n",
    "[ 0.13239847, -0.1332541 , 8.324003 , -8.686057 ]\n",
    "])\n",
    "\n",
    "intercept = np.array([ 0.19760127, -0.18874079, 0.03835499, -0.04586953])\n",
    "\n",
    "obs = np.array([0.5,0.5])"
   ]
  },
  {
   "cell_type": "code",
   "execution_count": 34,
   "id": "a0751ea5-90f0-4210-aeb0-784569532c7d",
   "metadata": {},
   "outputs": [
    {
     "name": "stdout",
     "output_type": "stream",
     "text": [
      "[-4.7469535   4.63490416  4.03420059 -4.21203439]\n"
     ]
    }
   ],
   "source": [
    "h = obs.dot(coefs) + intercept\n",
    "print(h)"
   ]
  },
  {
   "cell_type": "code",
   "execution_count": 39,
   "id": "d3e5fb9e-ac48-4d47-8182-2bfbbacab793",
   "metadata": {},
   "outputs": [],
   "source": [
    "probs = 1/(1+np.exp(-h))"
   ]
  },
  {
   "cell_type": "code",
   "execution_count": 40,
   "id": "75698ebc-c2c0-4b2c-ac68-43916dcdbc1b",
   "metadata": {},
   "outputs": [
    {
     "data": {
      "text/plain": [
       "array([0.00860343, 0.99038628, 0.98260801, 0.01459988])"
      ]
     },
     "execution_count": 40,
     "metadata": {},
     "output_type": "execute_result"
    }
   ],
   "source": [
    "probs"
   ]
  },
  {
   "cell_type": "code",
   "execution_count": 41,
   "id": "82fc1533-1d2d-4071-81e2-0c8bb0b449a4",
   "metadata": {},
   "outputs": [
    {
     "data": {
      "text/plain": [
       "0.012638348909066743"
      ]
     },
     "execution_count": 41,
     "metadata": {},
     "output_type": "execute_result"
    }
   ],
   "source": [
    "log_loss([False,True,True,False],probs,labels=[True,False])"
   ]
  },
  {
   "cell_type": "code",
   "execution_count": null,
   "id": "01d55a25-93b2-4e21-86b7-e6e2782b6643",
   "metadata": {},
   "outputs": [],
   "source": []
  }
 ],
 "metadata": {
  "kernelspec": {
   "display_name": "Python [conda env:tf2]",
   "language": "python",
   "name": "conda-env-tf2-py"
  },
  "language_info": {
   "codemirror_mode": {
    "name": "ipython",
    "version": 3
   },
   "file_extension": ".py",
   "mimetype": "text/x-python",
   "name": "python",
   "nbconvert_exporter": "python",
   "pygments_lexer": "ipython3",
   "version": "3.9.7"
  }
 },
 "nbformat": 4,
 "nbformat_minor": 5
}
