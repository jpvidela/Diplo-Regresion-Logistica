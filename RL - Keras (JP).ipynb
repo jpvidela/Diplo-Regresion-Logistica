{
 "cells": [
  {
   "cell_type": "code",
   "execution_count": 1,
   "id": "bf75644e-40ce-4a9b-8fdc-65395a37aae7",
   "metadata": {
    "tags": []
   },
   "outputs": [],
   "source": [
    "import numpy as np\n",
    "from matplotlib import pyplot as plt"
   ]
  },
  {
   "cell_type": "code",
   "execution_count": 2,
   "id": "2ec3cd63-3046-4919-bf4e-2b2bfb3f5ed3",
   "metadata": {},
   "outputs": [],
   "source": [
    "size = 100\n",
    "X = np.random.randn(size,2)\n",
    "Y = np.zeros([size,2])\n",
    "Y[:,0] = np.array([0]*int(size * 0.5) + [1]*int(size * 0.5))\n",
    "Y[:,1] = np.array([1]*int(size * 0.5) + [0]*int(size * 0.5))"
   ]
  },
  {
   "cell_type": "code",
   "execution_count": 3,
   "id": "5421967b-38d1-4ffc-8539-d9d116d188c2",
   "metadata": {},
   "outputs": [],
   "source": [
    "X[:int(size/2),:] += 1\n",
    "X[int(size/2):,:] -= 1"
   ]
  },
  {
   "cell_type": "code",
   "execution_count": 4,
   "id": "83663d0e-ecc2-4356-b76b-b20ceaff4474",
   "metadata": {},
   "outputs": [
    {
     "data": {
      "image/png": "[encoded data removed]",
      "text/plain": [
       "<Figure size 432x288 with 1 Axes>"
      ]
     },
     "metadata": {
      "needs_background": "light"
     },
     "output_type": "display_data"
    }
   ],
   "source": [
    "plt.scatter(X[:int(size/2),0],X[:int(size/2),1], alpha = 0.5)\n",
    "plt.scatter(X[int(size/2):,0],X[int(size/2):,1], alpha = 0.5)\n",
    "plt.show()"
   ]
  },
  {
   "cell_type": "code",
   "execution_count": 5,
   "id": "ed6b6632-341b-4f0e-8fa5-3e015f42b23a",
   "metadata": {},
   "outputs": [],
   "source": [
    "from tensorflow.keras.models import Sequential\n",
    "from tensorflow.keras.layers import Dense\n",
    "from tensorflow.keras.optimizers import SGD\n",
    "from tensorflow import keras\n",
    "# from tensorflow.keras.metrics import Accuracy\n",
    "# from tensorflow.keras.losses import binary_crossentropy"
   ]
  },
  {
   "cell_type": "code",
   "execution_count": 6,
   "id": "e4c522cc-369a-4713-a19a-0ed026044cd9",
   "metadata": {},
   "outputs": [],
   "source": [
    "metricas = [\n",
    "    keras.metrics.TruePositives(name='tp'),\n",
    "    keras.metrics.FalsePositives(name='fp'),\n",
    "    keras.metrics.TrueNegatives(name='tn'),\n",
    "    keras.metrics.FalseNegatives(name='fn'),\n",
    "    keras.metrics.BinaryAccuracy(name='accuracy'),\n",
    "    keras.metrics.Precision(name='precision'),\n",
    "    keras.metrics.Recall(name='recall'),\n",
    "    keras.metrics.AUC(name='auc'),\n",
    "    keras.metrics.AUC(name='prc', curve = 'PR')\n",
    "]"
   ]
  },
  {
   "cell_type": "markdown",
   "id": "fd99cd0c-0005-43fe-8cf3-4fb94b6af581",
   "metadata": {},
   "source": [
    "### Nota:\n",
    "\n",
    "`validation_split` separa un porcentaje de los datos, pero **ojo**, toma el % indicado del final de X e Y (ej: el último 20%). Si los datos no están originalmente mezclados, corro riesgo de validar incorrectamente mi modelo por no tomar una muestra aleatoria. Por tal motivo es importante mezclar los datos antes de alimentárselos al modelo.\n",
    "\n",
    "`shuffle` mezcla los datos después de cada epoch. El valor por default es `True`\n"
   ]
  },
  {
   "cell_type": "code",
   "execution_count": 7,
   "id": "ffc600df-561d-4d0e-acb0-c65416796c4d",
   "metadata": {},
   "outputs": [],
   "source": [
    "# Mezclo X e Y\n",
    "indexes = np.array(range(len(X))) # Array con índices de igual largo que X\n",
    "np.random.shuffle(indexes) # Mezclo el array anterior\n",
    "# Redefino a X e Y de forma desordenada\n",
    "X = X[indexes,:]\n",
    "Y = Y[indexes,:]"
   ]
  },
  {
   "cell_type": "code",
   "execution_count": 108,
   "id": "4a376784-a378-4ced-accf-92e154faee4f",
   "metadata": {},
   "outputs": [
    {
     "name": "stdout",
     "output_type": "stream",
     "text": [
      "Model: \"sequential_1\"\n",
      "_________________________________________________________________\n",
      " Layer (type)                Output Shape              Param #   \n",
      "=================================================================\n",
      " dense_2 (Dense)             (None, 6)                 18        \n",
      "                                                                 \n",
      " dense_3 (Dense)             (None, 2)                 14        \n",
      "                                                                 \n",
      "=================================================================\n",
      "Total params: 32\n",
      "Trainable params: 32\n",
      "Non-trainable params: 0\n",
      "_________________________________________________________________\n",
      "None\n",
      "Epoch 1/50\n",
      "4/4 [==============================] - 4s 582ms/step - loss: 0.8186 - tp: 136.0000 - fp: 47.0000 - tn: 133.0000 - fn: 44.0000 - accuracy: 0.7472 - precision: 0.7432 - recall: 0.7556 - auc: 0.8431 - prc: 0.8522 - val_loss: 0.8368 - val_tp: 11.0000 - val_fp: 12.0000 - val_tn: 8.0000 - val_fn: 9.0000 - val_accuracy: 0.4750 - val_precision: 0.4783 - val_recall: 0.5500 - val_auc: 0.4887 - val_prc: 0.5051\n",
      "Epoch 2/50\n",
      "4/4 [==============================] - 0s 8ms/step - loss: 0.6896 - tp: 47.0000 - fp: 32.0000 - tn: 48.0000 - fn: 33.0000 - accuracy: 0.5938 - precision: 0.5949 - recall: 0.5875 - auc: 0.6322 - prc: 0.6140 - val_loss: 0.6977 - val_tp: 12.0000 - val_fp: 9.0000 - val_tn: 11.0000 - val_fn: 8.0000 - val_accuracy: 0.5750 - val_precision: 0.5714 - val_recall: 0.6000 - val_auc: 0.6112 - val_prc: 0.6390\n",
      "Epoch 3/50\n",
      "4/4 [==============================] - 0s 10ms/step - loss: 0.5993 - tp: 51.0000 - fp: 22.0000 - tn: 58.0000 - fn: 29.0000 - accuracy: 0.6812 - precision: 0.6986 - recall: 0.6375 - auc: 0.7375 - prc: 0.7315 - val_loss: 0.6036 - val_tp: 12.0000 - val_fp: 8.0000 - val_tn: 12.0000 - val_fn: 8.0000 - val_accuracy: 0.6000 - val_precision: 0.6000 - val_recall: 0.6000 - val_auc: 0.7125 - val_prc: 0.7629\n",
      "Epoch 4/50\n",
      "4/4 [==============================] - 0s 9ms/step - loss: 0.5354 - tp: 58.0000 - fp: 17.0000 - tn: 63.0000 - fn: 22.0000 - accuracy: 0.7563 - precision: 0.7733 - recall: 0.7250 - auc: 0.8137 - prc: 0.8092 - val_loss: 0.5340 - val_tp: 13.0000 - val_fp: 6.0000 - val_tn: 14.0000 - val_fn: 7.0000 - val_accuracy: 0.6750 - val_precision: 0.6842 - val_recall: 0.6500 - val_auc: 0.7912 - val_prc: 0.8183\n",
      "Epoch 5/50\n",
      "4/4 [==============================] - 0s 8ms/step - loss: 0.4854 - tp: 63.0000 - fp: 16.0000 - tn: 64.0000 - fn: 17.0000 - accuracy: 0.7937 - precision: 0.7975 - recall: 0.7875 - auc: 0.8589 - prc: 0.8619 - val_loss: 0.4712 - val_tp: 14.0000 - val_fp: 6.0000 - val_tn: 14.0000 - val_fn: 6.0000 - val_accuracy: 0.7000 - val_precision: 0.7000 - val_recall: 0.7000 - val_auc: 0.8513 - val_prc: 0.8681\n",
      "Epoch 6/50\n",
      "4/4 [==============================] - 0s 8ms/step - loss: 0.4423 - tp: 65.0000 - fp: 14.0000 - tn: 66.0000 - fn: 15.0000 - accuracy: 0.8188 - precision: 0.8228 - recall: 0.8125 - auc: 0.8963 - prc: 0.8989 - val_loss: 0.4284 - val_tp: 15.0000 - val_fp: 5.0000 - val_tn: 15.0000 - val_fn: 5.0000 - val_accuracy: 0.7500 - val_precision: 0.7500 - val_recall: 0.7500 - val_auc: 0.8788 - val_prc: 0.8890\n",
      "Epoch 7/50\n",
      "4/4 [==============================] - 0s 9ms/step - loss: 0.4108 - tp: 67.0000 - fp: 14.0000 - tn: 66.0000 - fn: 13.0000 - accuracy: 0.8313 - precision: 0.8272 - recall: 0.8375 - auc: 0.9170 - prc: 0.9209 - val_loss: 0.3874 - val_tp: 16.0000 - val_fp: 4.0000 - val_tn: 16.0000 - val_fn: 4.0000 - val_accuracy: 0.8000 - val_precision: 0.8000 - val_recall: 0.8000 - val_auc: 0.9112 - val_prc: 0.9182\n",
      "Epoch 8/50\n",
      "4/4 [==============================] - 0s 8ms/step - loss: 0.3818 - tp: 69.0000 - fp: 12.0000 - tn: 68.0000 - fn: 11.0000 - accuracy: 0.8562 - precision: 0.8519 - recall: 0.8625 - auc: 0.9314 - prc: 0.9353 - val_loss: 0.3597 - val_tp: 16.0000 - val_fp: 4.0000 - val_tn: 16.0000 - val_fn: 4.0000 - val_accuracy: 0.8000 - val_precision: 0.8000 - val_recall: 0.8000 - val_auc: 0.9325 - val_prc: 0.9390\n",
      "Epoch 9/50\n",
      "4/4 [==============================] - 0s 9ms/step - loss: 0.3612 - tp: 69.0000 - fp: 11.0000 - tn: 69.0000 - fn: 11.0000 - accuracy: 0.8625 - precision: 0.8625 - recall: 0.8625 - auc: 0.9420 - prc: 0.9454 - val_loss: 0.3357 - val_tp: 16.0000 - val_fp: 4.0000 - val_tn: 16.0000 - val_fn: 4.0000 - val_accuracy: 0.8000 - val_precision: 0.8000 - val_recall: 0.8000 - val_auc: 0.9450 - val_prc: 0.9499\n",
      "Epoch 10/50\n",
      "4/4 [==============================] - 0s 8ms/step - loss: 0.3421 - tp: 69.0000 - fp: 11.0000 - tn: 69.0000 - fn: 11.0000 - accuracy: 0.8625 - precision: 0.8625 - recall: 0.8625 - auc: 0.9493 - prc: 0.9520 - val_loss: 0.3136 - val_tp: 16.0000 - val_fp: 3.0000 - val_tn: 17.0000 - val_fn: 4.0000 - val_accuracy: 0.8250 - val_precision: 0.8421 - val_recall: 0.8000 - val_auc: 0.9538 - val_prc: 0.9571\n",
      "Epoch 11/50\n",
      "4/4 [==============================] - 0s 8ms/step - loss: 0.3254 - tp: 69.0000 - fp: 11.0000 - tn: 69.0000 - fn: 11.0000 - accuracy: 0.8625 - precision: 0.8625 - recall: 0.8625 - auc: 0.9580 - prc: 0.9607 - val_loss: 0.2924 - val_tp: 19.0000 - val_fp: 2.0000 - val_tn: 18.0000 - val_fn: 1.0000 - val_accuracy: 0.9250 - val_precision: 0.9048 - val_recall: 0.9500 - val_auc: 0.9712 - val_prc: 0.9727\n",
      "Epoch 12/50\n",
      "4/4 [==============================] - 0s 9ms/step - loss: 0.3089 - tp: 70.0000 - fp: 11.0000 - tn: 69.0000 - fn: 10.0000 - accuracy: 0.8687 - precision: 0.8642 - recall: 0.8750 - auc: 0.9615 - prc: 0.9634 - val_loss: 0.2766 - val_tp: 19.0000 - val_fp: 1.0000 - val_tn: 19.0000 - val_fn: 1.0000 - val_accuracy: 0.9500 - val_precision: 0.9500 - val_recall: 0.9500 - val_auc: 0.9725 - val_prc: 0.9738\n",
      "Epoch 13/50\n",
      "4/4 [==============================] - 0s 8ms/step - loss: 0.2957 - tp: 71.0000 - fp: 10.0000 - tn: 70.0000 - fn: 9.0000 - accuracy: 0.8813 - precision: 0.8765 - recall: 0.8875 - auc: 0.9651 - prc: 0.9670 - val_loss: 0.2644 - val_tp: 19.0000 - val_fp: 1.0000 - val_tn: 19.0000 - val_fn: 1.0000 - val_accuracy: 0.9500 - val_precision: 0.9500 - val_recall: 0.9500 - val_auc: 0.9725 - val_prc: 0.9738\n",
      "Epoch 14/50\n",
      "4/4 [==============================] - 0s 8ms/step - loss: 0.2853 - tp: 72.0000 - fp: 8.0000 - tn: 72.0000 - fn: 8.0000 - accuracy: 0.9000 - precision: 0.9000 - recall: 0.9000 - auc: 0.9677 - prc: 0.9689 - val_loss: 0.2530 - val_tp: 19.0000 - val_fp: 1.0000 - val_tn: 19.0000 - val_fn: 1.0000 - val_accuracy: 0.9500 - val_precision: 0.9500 - val_recall: 0.9500 - val_auc: 0.9725 - val_prc: 0.9738\n",
      "Epoch 15/50\n",
      "4/4 [==============================] - 0s 9ms/step - loss: 0.2755 - tp: 72.0000 - fp: 8.0000 - tn: 72.0000 - fn: 8.0000 - accuracy: 0.9000 - precision: 0.9000 - recall: 0.9000 - auc: 0.9703 - prc: 0.9715 - val_loss: 0.2439 - val_tp: 19.0000 - val_fp: 1.0000 - val_tn: 19.0000 - val_fn: 1.0000 - val_accuracy: 0.9500 - val_precision: 0.9500 - val_recall: 0.9500 - val_auc: 0.9725 - val_prc: 0.9738\n",
      "Epoch 16/50\n",
      "4/4 [==============================] - 0s 11ms/step - loss: 0.2679 - tp: 72.0000 - fp: 8.0000 - tn: 72.0000 - fn: 8.0000 - accuracy: 0.9000 - precision: 0.9000 - recall: 0.9000 - auc: 0.9720 - prc: 0.9729 - val_loss: 0.2374 - val_tp: 19.0000 - val_fp: 1.0000 - val_tn: 19.0000 - val_fn: 1.0000 - val_accuracy: 0.9500 - val_precision: 0.9500 - val_recall: 0.9500 - val_auc: 0.9725 - val_prc: 0.9738\n",
      "Epoch 17/50\n",
      "4/4 [==============================] - 0s 9ms/step - loss: 0.2608 - tp: 73.0000 - fp: 7.0000 - tn: 73.0000 - fn: 7.0000 - accuracy: 0.9125 - precision: 0.9125 - recall: 0.9125 - auc: 0.9731 - prc: 0.9740 - val_loss: 0.2288 - val_tp: 19.0000 - val_fp: 1.0000 - val_tn: 19.0000 - val_fn: 1.0000 - val_accuracy: 0.9500 - val_precision: 0.9500 - val_recall: 0.9500 - val_auc: 0.9725 - val_prc: 0.9738\n",
      "Epoch 18/50\n",
      "4/4 [==============================] - 0s 10ms/step - loss: 0.2531 - tp: 73.0000 - fp: 7.0000 - tn: 73.0000 - fn: 7.0000 - accuracy: 0.9125 - precision: 0.9125 - recall: 0.9125 - auc: 0.9737 - prc: 0.9746 - val_loss: 0.2217 - val_tp: 19.0000 - val_fp: 1.0000 - val_tn: 19.0000 - val_fn: 1.0000 - val_accuracy: 0.9500 - val_precision: 0.9500 - val_recall: 0.9500 - val_auc: 0.9725 - val_prc: 0.9738\n",
      "Epoch 19/50\n",
      "4/4 [==============================] - 0s 8ms/step - loss: 0.2469 - tp: 73.0000 - fp: 7.0000 - tn: 73.0000 - fn: 7.0000 - accuracy: 0.9125 - precision: 0.9125 - recall: 0.9125 - auc: 0.9759 - prc: 0.9767 - val_loss: 0.2168 - val_tp: 19.0000 - val_fp: 1.0000 - val_tn: 19.0000 - val_fn: 1.0000 - val_accuracy: 0.9500 - val_precision: 0.9500 - val_recall: 0.9500 - val_auc: 0.9725 - val_prc: 0.9738\n",
      "Epoch 20/50\n",
      "4/4 [==============================] - 0s 8ms/step - loss: 0.2414 - tp: 74.0000 - fp: 7.0000 - tn: 73.0000 - fn: 6.0000 - accuracy: 0.9187 - precision: 0.9136 - recall: 0.9250 - auc: 0.9768 - prc: 0.9774 - val_loss: 0.2118 - val_tp: 19.0000 - val_fp: 1.0000 - val_tn: 19.0000 - val_fn: 1.0000 - val_accuracy: 0.9500 - val_precision: 0.9500 - val_recall: 0.9500 - val_auc: 0.9725 - val_prc: 0.9738\n",
      "Epoch 21/50\n",
      "4/4 [==============================] - 0s 9ms/step - loss: 0.2373 - tp: 75.0000 - fp: 5.0000 - tn: 75.0000 - fn: 5.0000 - accuracy: 0.9375 - precision: 0.9375 - recall: 0.9375 - auc: 0.9775 - prc: 0.9780 - val_loss: 0.2077 - val_tp: 19.0000 - val_fp: 1.0000 - val_tn: 19.0000 - val_fn: 1.0000 - val_accuracy: 0.9500 - val_precision: 0.9500 - val_recall: 0.9500 - val_auc: 0.9737 - val_prc: 0.9754\n",
      "Epoch 22/50\n",
      "4/4 [==============================] - 0s 9ms/step - loss: 0.2329 - tp: 75.0000 - fp: 5.0000 - tn: 75.0000 - fn: 5.0000 - accuracy: 0.9375 - precision: 0.9375 - recall: 0.9375 - auc: 0.9782 - prc: 0.9788 - val_loss: 0.2034 - val_tp: 19.0000 - val_fp: 1.0000 - val_tn: 19.0000 - val_fn: 1.0000 - val_accuracy: 0.9500 - val_precision: 0.9500 - val_recall: 0.9500 - val_auc: 0.9750 - val_prc: 0.9771\n",
      "Epoch 23/50\n",
      "4/4 [==============================] - 0s 9ms/step - loss: 0.2291 - tp: 75.0000 - fp: 5.0000 - tn: 75.0000 - fn: 5.0000 - accuracy: 0.9375 - precision: 0.9375 - recall: 0.9375 - auc: 0.9791 - prc: 0.9796 - val_loss: 0.1998 - val_tp: 19.0000 - val_fp: 1.0000 - val_tn: 19.0000 - val_fn: 1.0000 - val_accuracy: 0.9500 - val_precision: 0.9500 - val_recall: 0.9500 - val_auc: 0.9775 - val_prc: 0.9786\n",
      "Epoch 24/50\n",
      "4/4 [==============================] - 0s 9ms/step - loss: 0.2252 - tp: 76.0000 - fp: 5.0000 - tn: 75.0000 - fn: 4.0000 - accuracy: 0.9438 - precision: 0.9383 - recall: 0.9500 - auc: 0.9794 - prc: 0.9800 - val_loss: 0.1960 - val_tp: 19.0000 - val_fp: 1.0000 - val_tn: 19.0000 - val_fn: 1.0000 - val_accuracy: 0.9500 - val_precision: 0.9500 - val_recall: 0.9500 - val_auc: 0.9775 - val_prc: 0.9786\n",
      "Epoch 25/50\n",
      "4/4 [==============================] - 0s 9ms/step - loss: 0.2221 - tp: 76.0000 - fp: 5.0000 - tn: 75.0000 - fn: 4.0000 - accuracy: 0.9438 - precision: 0.9383 - recall: 0.9500 - auc: 0.9800 - prc: 0.9807 - val_loss: 0.1927 - val_tp: 19.0000 - val_fp: 1.0000 - val_tn: 19.0000 - val_fn: 1.0000 - val_accuracy: 0.9500 - val_precision: 0.9500 - val_recall: 0.9500 - val_auc: 0.9775 - val_prc: 0.9786\n",
      "Epoch 26/50\n",
      "4/4 [==============================] - 0s 10ms/step - loss: 0.2187 - tp: 76.0000 - fp: 5.0000 - tn: 75.0000 - fn: 4.0000 - accuracy: 0.9438 - precision: 0.9383 - recall: 0.9500 - auc: 0.9802 - prc: 0.9809 - val_loss: 0.1891 - val_tp: 19.0000 - val_fp: 1.0000 - val_tn: 19.0000 - val_fn: 1.0000 - val_accuracy: 0.9500 - val_precision: 0.9500 - val_recall: 0.9500 - val_auc: 0.9788 - val_prc: 0.9795\n",
      "Epoch 27/50\n",
      "4/4 [==============================] - 0s 10ms/step - loss: 0.2161 - tp: 76.0000 - fp: 5.0000 - tn: 75.0000 - fn: 4.0000 - accuracy: 0.9438 - precision: 0.9383 - recall: 0.9500 - auc: 0.9805 - prc: 0.9811 - val_loss: 0.1873 - val_tp: 19.0000 - val_fp: 1.0000 - val_tn: 19.0000 - val_fn: 1.0000 - val_accuracy: 0.9500 - val_precision: 0.9500 - val_recall: 0.9500 - val_auc: 0.9800 - val_prc: 0.9803\n",
      "Epoch 28/50\n",
      "4/4 [==============================] - 0s 9ms/step - loss: 0.2149 - tp: 76.0000 - fp: 5.0000 - tn: 75.0000 - fn: 4.0000 - accuracy: 0.9438 - precision: 0.9383 - recall: 0.9500 - auc: 0.9805 - prc: 0.9811 - val_loss: 0.1853 - val_tp: 19.0000 - val_fp: 1.0000 - val_tn: 19.0000 - val_fn: 1.0000 - val_accuracy: 0.9500 - val_precision: 0.9500 - val_recall: 0.9500 - val_auc: 0.9800 - val_prc: 0.9803\n",
      "Epoch 29/50\n",
      "4/4 [==============================] - 0s 10ms/step - loss: 0.2125 - tp: 76.0000 - fp: 5.0000 - tn: 75.0000 - fn: 4.0000 - accuracy: 0.9438 - precision: 0.9383 - recall: 0.9500 - auc: 0.9807 - prc: 0.9813 - val_loss: 0.1837 - val_tp: 19.0000 - val_fp: 1.0000 - val_tn: 19.0000 - val_fn: 1.0000 - val_accuracy: 0.9500 - val_precision: 0.9500 - val_recall: 0.9500 - val_auc: 0.9800 - val_prc: 0.9803\n",
      "Epoch 30/50\n",
      "4/4 [==============================] - 0s 11ms/step - loss: 0.2105 - tp: 76.0000 - fp: 5.0000 - tn: 75.0000 - fn: 4.0000 - accuracy: 0.9438 - precision: 0.9383 - recall: 0.9500 - auc: 0.9809 - prc: 0.9814 - val_loss: 0.1828 - val_tp: 19.0000 - val_fp: 1.0000 - val_tn: 19.0000 - val_fn: 1.0000 - val_accuracy: 0.9500 - val_precision: 0.9500 - val_recall: 0.9500 - val_auc: 0.9800 - val_prc: 0.9803\n",
      "Epoch 31/50\n",
      "4/4 [==============================] - 0s 9ms/step - loss: 0.2087 - tp: 76.0000 - fp: 5.0000 - tn: 75.0000 - fn: 4.0000 - accuracy: 0.9438 - precision: 0.9383 - recall: 0.9500 - auc: 0.9811 - prc: 0.9816 - val_loss: 0.1820 - val_tp: 19.0000 - val_fp: 1.0000 - val_tn: 19.0000 - val_fn: 1.0000 - val_accuracy: 0.9500 - val_precision: 0.9500 - val_recall: 0.9500 - val_auc: 0.9800 - val_prc: 0.9803\n",
      "Epoch 32/50\n",
      "4/4 [==============================] - 0s 9ms/step - loss: 0.2069 - tp: 76.0000 - fp: 4.0000 - tn: 76.0000 - fn: 4.0000 - accuracy: 0.9500 - precision: 0.9500 - recall: 0.9500 - auc: 0.9809 - prc: 0.9815 - val_loss: 0.1798 - val_tp: 19.0000 - val_fp: 1.0000 - val_tn: 19.0000 - val_fn: 1.0000 - val_accuracy: 0.9500 - val_precision: 0.9500 - val_recall: 0.9500 - val_auc: 0.9800 - val_prc: 0.9803\n",
      "Epoch 33/50\n",
      "4/4 [==============================] - 0s 9ms/step - loss: 0.2057 - tp: 76.0000 - fp: 4.0000 - tn: 76.0000 - fn: 4.0000 - accuracy: 0.9500 - precision: 0.9500 - recall: 0.9500 - auc: 0.9816 - prc: 0.9821 - val_loss: 0.1785 - val_tp: 19.0000 - val_fp: 1.0000 - val_tn: 19.0000 - val_fn: 1.0000 - val_accuracy: 0.9500 - val_precision: 0.9500 - val_recall: 0.9500 - val_auc: 0.9812 - val_prc: 0.9818\n",
      "Epoch 34/50\n",
      "4/4 [==============================] - 0s 8ms/step - loss: 0.2040 - tp: 76.0000 - fp: 4.0000 - tn: 76.0000 - fn: 4.0000 - accuracy: 0.9500 - precision: 0.9500 - recall: 0.9500 - auc: 0.9818 - prc: 0.9823 - val_loss: 0.1777 - val_tp: 19.0000 - val_fp: 1.0000 - val_tn: 19.0000 - val_fn: 1.0000 - val_accuracy: 0.9500 - val_precision: 0.9500 - val_recall: 0.9500 - val_auc: 0.9813 - val_prc: 0.9818\n",
      "Epoch 35/50\n",
      "4/4 [==============================] - 0s 11ms/step - loss: 0.2024 - tp: 76.0000 - fp: 4.0000 - tn: 76.0000 - fn: 4.0000 - accuracy: 0.9500 - precision: 0.9500 - recall: 0.9500 - auc: 0.9820 - prc: 0.9826 - val_loss: 0.1770 - val_tp: 19.0000 - val_fp: 1.0000 - val_tn: 19.0000 - val_fn: 1.0000 - val_accuracy: 0.9500 - val_precision: 0.9500 - val_recall: 0.9500 - val_auc: 0.9825 - val_prc: 0.9834\n",
      "Epoch 36/50\n",
      "4/4 [==============================] - 0s 9ms/step - loss: 0.2009 - tp: 76.0000 - fp: 4.0000 - tn: 76.0000 - fn: 4.0000 - accuracy: 0.9500 - precision: 0.9500 - recall: 0.9500 - auc: 0.9823 - prc: 0.9828 - val_loss: 0.1755 - val_tp: 19.0000 - val_fp: 1.0000 - val_tn: 19.0000 - val_fn: 1.0000 - val_accuracy: 0.9500 - val_precision: 0.9500 - val_recall: 0.9500 - val_auc: 0.9825 - val_prc: 0.9834\n",
      "Epoch 37/50\n",
      "4/4 [==============================] - 0s 9ms/step - loss: 0.1996 - tp: 76.0000 - fp: 4.0000 - tn: 76.0000 - fn: 4.0000 - accuracy: 0.9500 - precision: 0.9500 - recall: 0.9500 - auc: 0.9823 - prc: 0.9828 - val_loss: 0.1726 - val_tp: 19.0000 - val_fp: 1.0000 - val_tn: 19.0000 - val_fn: 1.0000 - val_accuracy: 0.9500 - val_precision: 0.9500 - val_recall: 0.9500 - val_auc: 0.9825 - val_prc: 0.9834\n",
      "Epoch 38/50\n",
      "4/4 [==============================] - 0s 9ms/step - loss: 0.1979 - tp: 76.0000 - fp: 4.0000 - tn: 76.0000 - fn: 4.0000 - accuracy: 0.9500 - precision: 0.9500 - recall: 0.9500 - auc: 0.9828 - prc: 0.9833 - val_loss: 0.1715 - val_tp: 19.0000 - val_fp: 1.0000 - val_tn: 19.0000 - val_fn: 1.0000 - val_accuracy: 0.9500 - val_precision: 0.9500 - val_recall: 0.9500 - val_auc: 0.9825 - val_prc: 0.9834\n",
      "Epoch 39/50\n",
      "4/4 [==============================] - 0s 9ms/step - loss: 0.1975 - tp: 76.0000 - fp: 4.0000 - tn: 76.0000 - fn: 4.0000 - accuracy: 0.9500 - precision: 0.9500 - recall: 0.9500 - auc: 0.9828 - prc: 0.9833 - val_loss: 0.1690 - val_tp: 19.0000 - val_fp: 1.0000 - val_tn: 19.0000 - val_fn: 1.0000 - val_accuracy: 0.9500 - val_precision: 0.9500 - val_recall: 0.9500 - val_auc: 0.9825 - val_prc: 0.9834\n",
      "Epoch 40/50\n",
      "4/4 [==============================] - 0s 9ms/step - loss: 0.1961 - tp: 76.0000 - fp: 4.0000 - tn: 76.0000 - fn: 4.0000 - accuracy: 0.9500 - precision: 0.9500 - recall: 0.9500 - auc: 0.9830 - prc: 0.9835 - val_loss: 0.1682 - val_tp: 19.0000 - val_fp: 1.0000 - val_tn: 19.0000 - val_fn: 1.0000 - val_accuracy: 0.9500 - val_precision: 0.9500 - val_recall: 0.9500 - val_auc: 0.9825 - val_prc: 0.9834\n",
      "Epoch 41/50\n",
      "4/4 [==============================] - 0s 9ms/step - loss: 0.1948 - tp: 76.0000 - fp: 4.0000 - tn: 76.0000 - fn: 4.0000 - accuracy: 0.9500 - precision: 0.9500 - recall: 0.9500 - auc: 0.9833 - prc: 0.9837 - val_loss: 0.1672 - val_tp: 19.0000 - val_fp: 1.0000 - val_tn: 19.0000 - val_fn: 1.0000 - val_accuracy: 0.9500 - val_precision: 0.9500 - val_recall: 0.9500 - val_auc: 0.9825 - val_prc: 0.9834\n",
      "Epoch 42/50\n",
      "4/4 [==============================] - 0s 11ms/step - loss: 0.1935 - tp: 76.0000 - fp: 4.0000 - tn: 76.0000 - fn: 4.0000 - accuracy: 0.9500 - precision: 0.9500 - recall: 0.9500 - auc: 0.9834 - prc: 0.9837 - val_loss: 0.1661 - val_tp: 19.0000 - val_fp: 1.0000 - val_tn: 19.0000 - val_fn: 1.0000 - val_accuracy: 0.9500 - val_precision: 0.9500 - val_recall: 0.9500 - val_auc: 0.9825 - val_prc: 0.9834\n",
      "Epoch 43/50\n",
      "4/4 [==============================] - 0s 11ms/step - loss: 0.1923 - tp: 76.0000 - fp: 4.0000 - tn: 76.0000 - fn: 4.0000 - accuracy: 0.9500 - precision: 0.9500 - recall: 0.9500 - auc: 0.9834 - prc: 0.9838 - val_loss: 0.1659 - val_tp: 19.0000 - val_fp: 1.0000 - val_tn: 19.0000 - val_fn: 1.0000 - val_accuracy: 0.9500 - val_precision: 0.9500 - val_recall: 0.9500 - val_auc: 0.9825 - val_prc: 0.9834\n",
      "Epoch 44/50\n",
      "4/4 [==============================] - 0s 8ms/step - loss: 0.1912 - tp: 76.0000 - fp: 4.0000 - tn: 76.0000 - fn: 4.0000 - accuracy: 0.9500 - precision: 0.9500 - recall: 0.9500 - auc: 0.9836 - prc: 0.9839 - val_loss: 0.1652 - val_tp: 19.0000 - val_fp: 1.0000 - val_tn: 19.0000 - val_fn: 1.0000 - val_accuracy: 0.9500 - val_precision: 0.9500 - val_recall: 0.9500 - val_auc: 0.9825 - val_prc: 0.9834\n",
      "Epoch 45/50\n",
      "4/4 [==============================] - 0s 10ms/step - loss: 0.1903 - tp: 76.0000 - fp: 4.0000 - tn: 76.0000 - fn: 4.0000 - accuracy: 0.9500 - precision: 0.9500 - recall: 0.9500 - auc: 0.9837 - prc: 0.9840 - val_loss: 0.1636 - val_tp: 19.0000 - val_fp: 1.0000 - val_tn: 19.0000 - val_fn: 1.0000 - val_accuracy: 0.9500 - val_precision: 0.9500 - val_recall: 0.9500 - val_auc: 0.9825 - val_prc: 0.9834\n",
      "Epoch 46/50\n",
      "4/4 [==============================] - 0s 8ms/step - loss: 0.1891 - tp: 76.0000 - fp: 4.0000 - tn: 76.0000 - fn: 4.0000 - accuracy: 0.9500 - precision: 0.9500 - recall: 0.9500 - auc: 0.9838 - prc: 0.9841 - val_loss: 0.1624 - val_tp: 19.0000 - val_fp: 1.0000 - val_tn: 19.0000 - val_fn: 1.0000 - val_accuracy: 0.9500 - val_precision: 0.9500 - val_recall: 0.9500 - val_auc: 0.9825 - val_prc: 0.9834\n",
      "Epoch 47/50\n",
      "4/4 [==============================] - 0s 9ms/step - loss: 0.1884 - tp: 76.0000 - fp: 4.0000 - tn: 76.0000 - fn: 4.0000 - accuracy: 0.9500 - precision: 0.9500 - recall: 0.9500 - auc: 0.9840 - prc: 0.9842 - val_loss: 0.1607 - val_tp: 19.0000 - val_fp: 1.0000 - val_tn: 19.0000 - val_fn: 1.0000 - val_accuracy: 0.9500 - val_precision: 0.9500 - val_recall: 0.9500 - val_auc: 0.9825 - val_prc: 0.9834\n",
      "Epoch 48/50\n",
      "4/4 [==============================] - 0s 8ms/step - loss: 0.1875 - tp: 76.0000 - fp: 3.0000 - tn: 77.0000 - fn: 4.0000 - accuracy: 0.9563 - precision: 0.9620 - recall: 0.9500 - auc: 0.9841 - prc: 0.9844 - val_loss: 0.1612 - val_tp: 19.0000 - val_fp: 1.0000 - val_tn: 19.0000 - val_fn: 1.0000 - val_accuracy: 0.9500 - val_precision: 0.9500 - val_recall: 0.9500 - val_auc: 0.9825 - val_prc: 0.9834\n",
      "Epoch 49/50\n",
      "4/4 [==============================] - 0s 9ms/step - loss: 0.1866 - tp: 76.0000 - fp: 3.0000 - tn: 77.0000 - fn: 4.0000 - accuracy: 0.9563 - precision: 0.9620 - recall: 0.9500 - auc: 0.9841 - prc: 0.9845 - val_loss: 0.1620 - val_tp: 19.0000 - val_fp: 1.0000 - val_tn: 19.0000 - val_fn: 1.0000 - val_accuracy: 0.9500 - val_precision: 0.9500 - val_recall: 0.9500 - val_auc: 0.9825 - val_prc: 0.9834\n",
      "Epoch 50/50\n",
      "4/4 [==============================] - 0s 9ms/step - loss: 0.1858 - tp: 76.0000 - fp: 4.0000 - tn: 76.0000 - fn: 4.0000 - accuracy: 0.9500 - precision: 0.9500 - recall: 0.9500 - auc: 0.9841 - prc: 0.9844 - val_loss: 0.1626 - val_tp: 19.0000 - val_fp: 1.0000 - val_tn: 19.0000 - val_fn: 1.0000 - val_accuracy: 0.9500 - val_precision: 0.9500 - val_recall: 0.9500 - val_auc: 0.9825 - val_prc: 0.9834\n"
     ]
    }
   ],
   "source": [
    "# Instancio el modelo\n",
    "model = Sequential()\n",
    "# Defino arquitectura de la red\n",
    "model.add(Dense(6, input_shape = (2,)))\n",
    "model.add(Dense(2, activation = 'sigmoid'))\n",
    "print(model.summary())\n",
    "model.compile(SGD(learning_rate=0.05), loss='binary_crossentropy', metrics = metricas)\n",
    "history = model.fit(X,Y, epochs=50, verbose=1, batch_size=25, validation_split=0.2, shuffle=True )"
   ]
  },
  {
   "cell_type": "code",
   "execution_count": 109,
   "id": "1a354e84-6081-45d8-839a-609ae2554852",
   "metadata": {},
   "outputs": [
    {
     "data": {
      "image/png": "[encoded data removed]",
      "text/plain": [
       "<Figure size 432x288 with 1 Axes>"
      ]
     },
     "metadata": {
      "needs_background": "light"
     },
     "output_type": "display_data"
    }
   ],
   "source": [
    "plt.plot(history.history['accuracy'], label = \"accuracy\")\n",
    "plt.plot(history.history['val_accuracy'], label = \"val_accuracy\")\n",
    "plt.legend()\n",
    "plt.show()"
   ]
  },
  {
   "cell_type": "code",
   "execution_count": 110,
   "id": "fe00535e-3bb7-4977-8494-2c20ee6a6158",
   "metadata": {},
   "outputs": [
    {
     "name": "stdout",
     "output_type": "stream",
     "text": [
      "4/4 [==============================] - 0s 2ms/step - loss: 0.1807 - tp: 95.0000 - fp: 5.0000 - tn: 95.0000 - fn: 5.0000 - accuracy: 0.9500 - precision: 0.9500 - recall: 0.9500 - auc: 0.9826 - prc: 0.9830\n"
     ]
    },
    {
     "data": {
      "text/plain": [
       "[0.1806759387254715,\n",
       " 95.0,\n",
       " 5.0,\n",
       " 95.0,\n",
       " 5.0,\n",
       " 0.949999988079071,\n",
       " 0.949999988079071,\n",
       " 0.949999988079071,\n",
       " 0.9825500249862671,\n",
       " 0.9829774498939514]"
      ]
     },
     "execution_count": 110,
     "metadata": {},
     "output_type": "execute_result"
    }
   ],
   "source": [
    "model.evaluate(X,Y)"
   ]
  },
  {
   "cell_type": "code",
   "execution_count": 111,
   "id": "24224c97-92f8-47c3-bc2f-fa144bc95e13",
   "metadata": {},
   "outputs": [
    {
     "name": "stdout",
     "output_type": "stream",
     "text": [
      "[array([[ 0.50791174, -0.4102477 ,  0.23174843,  0.39901417, -1.1664922 ,\n",
      "         0.7007147 ],\n",
      "       [ 0.3534786 , -0.41806537, -0.03929282,  0.78432286, -0.77350694,\n",
      "        -0.30191326]], dtype=float32), array([ 0.00672131,  0.01293345, -0.00795498, -0.01435903,  0.02524194,\n",
      "       -0.01721825], dtype=float32), array([[ 0.08306647,  0.26065594],\n",
      "       [ 0.796517  , -0.19710822],\n",
      "       [ 0.11367827,  0.47403327],\n",
      "       [-0.9838576 ,  0.36128685],\n",
      "       [ 0.7640865 , -1.2517158 ],\n",
      "       [-0.61528224,  0.05844117]], dtype=float32), array([ 0.01941411, -0.01946114], dtype=float32)]\n"
     ]
    }
   ],
   "source": [
    "# Parámetros aprendidos por el modelo\n",
    "w = model.get_weights()\n",
    "print(w)"
   ]
  },
  {
   "cell_type": "markdown",
   "id": "8d09db3a-298c-46df-a559-608213133d51",
   "metadata": {},
   "source": [
    "La cantidad de filas corresponde a las entradas y las columnas a las salidas. En este ejemplo:\n",
    "- El primer array corresponde a los parámetros de entrada:\n",
    "    - Input 1 conecta con 6 elementos de la primer capa,\n",
    "    - Input 2 conecta con 6 elementos de la primer capa. \n",
    "- El segundo array corresponde a los parámetros del bias (1 por cada uno de los 6 elementos de la primer capa),\n",
    "- El tercer array corresponde a los parámetros de la 2da capa. Cada fila contiene los parámetros que vinculan el elemento de la primer capa, con cada elemento de la segunda. Por tal motivo son 6 filas (entradas) y 2 columnas (salidas)"
   ]
  },
  {
   "cell_type": "code",
   "execution_count": 112,
   "id": "6464a1e0-65f0-45e6-b605-87e541d7a52a",
   "metadata": {},
   "outputs": [],
   "source": [
    "a = np.array([[1,1]])"
   ]
  },
  {
   "cell_type": "code",
   "execution_count": 113,
   "id": "843826d6-3048-4d40-b367-4e980ff66b4a",
   "metadata": {},
   "outputs": [
    {
     "data": {
      "text/plain": [
       "array([[0.0327709 , 0.96430385]], dtype=float32)"
      ]
     },
     "execution_count": 113,
     "metadata": {},
     "output_type": "execute_result"
    }
   ],
   "source": [
    "model.predict(a)"
   ]
  },
  {
   "cell_type": "code",
   "execution_count": 114,
   "id": "7750b531-bc52-46da-bd28-b7df7dc144ab",
   "metadata": {},
   "outputs": [],
   "source": [
    "l1 = a @ w[0] + w[1]"
   ]
  },
  {
   "cell_type": "code",
   "execution_count": 115,
   "id": "e9de6a7b-3dad-4be5-95ee-a86a0fbe24e5",
   "metadata": {},
   "outputs": [
    {
     "data": {
      "text/plain": [
       "array([[ 0.86811167, -0.81537963,  0.18450063,  1.168978  , -1.91475722,\n",
       "         0.3815832 ]])"
      ]
     },
     "execution_count": 115,
     "metadata": {},
     "output_type": "execute_result"
    }
   ],
   "source": [
    "l1"
   ]
  },
  {
   "cell_type": "code",
   "execution_count": 116,
   "id": "7454cbdc-88f3-44fa-b9d1-9195bf528c8b",
   "metadata": {},
   "outputs": [],
   "source": [
    "output = l1 @ w[2] + w[3]"
   ]
  },
  {
   "cell_type": "code",
   "execution_count": 117,
   "id": "383c01d9-33a2-4450-b2a7-3dab9eb2a893",
   "metadata": {},
   "outputs": [
    {
     "data": {
      "text/plain": [
       "array([[-3.38489429,  3.29636316]])"
      ]
     },
     "execution_count": 117,
     "metadata": {},
     "output_type": "execute_result"
    }
   ],
   "source": [
    "output"
   ]
  },
  {
   "cell_type": "code",
   "execution_count": 118,
   "id": "cd01e9fc-5005-4894-8083-897c2276190b",
   "metadata": {},
   "outputs": [],
   "source": [
    "output_activation = 1/(1+np.exp(-output))"
   ]
  },
  {
   "cell_type": "code",
   "execution_count": 119,
   "id": "b5cea5f8-02c0-411e-9ea9-c5434e8e5691",
   "metadata": {},
   "outputs": [
    {
     "data": {
      "text/plain": [
       "array([[0.03277091, 0.96430383]])"
      ]
     },
     "execution_count": 119,
     "metadata": {},
     "output_type": "execute_result"
    }
   ],
   "source": [
    "output_activation"
   ]
  },
  {
   "cell_type": "code",
   "execution_count": null,
   "id": "42bf5036-b47f-45cb-9439-7f7bff349489",
   "metadata": {},
   "outputs": [],
   "source": []
  }
 ],
 "metadata": {
  "kernelspec": {
   "display_name": "Python [conda env:tf2]",
   "language": "python",
   "name": "conda-env-tf2-py"
  },
  "language_info": {
   "codemirror_mode": {
    "name": "ipython",
    "version": 3
   },
   "file_extension": ".py",
   "mimetype": "text/x-python",
   "name": "python",
   "nbconvert_exporter": "python",
   "pygments_lexer": "ipython3",
   "version": "3.9.7"
  }
 },
 "nbformat": 4,
 "nbformat_minor": 5
}
